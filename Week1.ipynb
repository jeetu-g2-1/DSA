{
  "nbformat": 4,
  "nbformat_minor": 0,
  "metadata": {
    "colab": {
      "provenance": [],
      "authorship_tag": "ABX9TyOkLKIbQzJ2IV+tr4BONAC2",
      "include_colab_link": true
    },
    "kernelspec": {
      "name": "python3",
      "display_name": "Python 3"
    },
    "language_info": {
      "name": "python"
    }
  },
  "cells": [
    {
      "cell_type": "markdown",
      "metadata": {
        "id": "view-in-github",
        "colab_type": "text"
      },
      "source": [
        "<a href=\"https://colab.research.google.com/github/jeetu-g2-1/DSA/blob/main/Week1.ipynb\" target=\"_parent\"><img src=\"https://colab.research.google.com/assets/colab-badge.svg\" alt=\"Open In Colab\"/></a>"
      ]
    },
    {
      "cell_type": "markdown",
      "source": [
        "\n",
        "\n",
        "> Week -1\n",
        "<li>Binary First Search, Depth First Search and Linkedlist</li>\n",
        "\n"
      ],
      "metadata": {
        "id": "v6eYKRkJm4Vw"
      }
    },
    {
      "cell_type": "code",
      "execution_count": null,
      "metadata": {
        "id": "zw_dXkTFjP-R"
      },
      "outputs": [],
      "source": [
        "def fun(m,n):\n",
        "  if m == n:\n",
        "    return n\n",
        "  else:\n",
        "    if m > n:\n",
        "      return fun(m-n,n)\n",
        "    else:\n",
        "      return fun(m,n-m)"
      ]
    },
    {
      "cell_type": "code",
      "source": [
        "fun(8,2)"
      ],
      "metadata": {
        "colab": {
          "base_uri": "https://localhost:8080/"
        },
        "id": "tBb7eB1Ojrc5",
        "outputId": "3c37faf3-7f95-4125-da28-a37c895c7039"
      },
      "execution_count": null,
      "outputs": [
        {
          "output_type": "execute_result",
          "data": {
            "text/plain": [
              "2"
            ]
          },
          "metadata": {},
          "execution_count": 2
        }
      ]
    },
    {
      "cell_type": "code",
      "source": [
        "class Node:\n",
        "    def __init__(self, data):\n",
        "        self.data = data\n",
        "        self.next = None\n",
        "\n",
        "def create_linked_list(arr):\n",
        "    if not arr:\n",
        "        return None\n",
        "    head = Node(arr[0])\n",
        "    current = head\n",
        "    for value in arr[1:]:\n",
        "        current.next = Node(value)\n",
        "        current = current.next\n",
        "    return head\n",
        "\n",
        "def operation(head):\n",
        "    ptr1 = head\n",
        "    ptr2 = head\n",
        "    while ptr2 is not None and ptr2.next is not None:\n",
        "        ptr1 = ptr1.next\n",
        "        ptr2 = ptr2.next.next\n",
        "    print(ptr1.data)\n",
        "\n",
        "# Given array\n",
        "arr = [23, 21, 4, 67, 12, 6, 17, 24, 20, 33]\n",
        "\n",
        "# Create the linked list\n",
        "head = create_linked_list(arr)\n",
        "\n",
        "# Call the operation function\n",
        "operation(head)\n"
      ],
      "metadata": {
        "id": "oLGPmX7AjzEs",
        "colab": {
          "base_uri": "https://localhost:8080/"
        },
        "outputId": "e56a7d8d-3240-441f-aaa9-727c5f14e335"
      },
      "execution_count": null,
      "outputs": [
        {
          "output_type": "stream",
          "name": "stdout",
          "text": [
            "6\n"
          ]
        }
      ]
    },
    {
      "cell_type": "code",
      "source": [
        "class node:\n",
        "  def __init__(self,data):\n",
        "    self.data=data\n",
        "    self.next=None\n",
        "nn=node(10)\n",
        "nn2=node(9)\n",
        "nn.next=nn2\n",
        "print(nn.next.data)"
      ],
      "metadata": {
        "id": "UhPKCMtI6hrB",
        "colab": {
          "base_uri": "https://localhost:8080/"
        },
        "outputId": "4a06f039-857a-4c9b-9d9d-141ff072c926"
      },
      "execution_count": null,
      "outputs": [
        {
          "output_type": "stream",
          "name": "stdout",
          "text": [
            "9\n"
          ]
        }
      ]
    },
    {
      "cell_type": "code",
      "source": [
        "class Node:\n",
        "    def __init__(self, v = None):\n",
        "        self.value = v\n",
        "        self.next = None\n",
        "        return\n",
        "    def isempty(self):\n",
        "        if self.value == None:\n",
        "            return(True)\n",
        "        else:\n",
        "            return(False)\n",
        "    # recursive\n",
        "    def append(self,v):\n",
        "        # If current node is empty\n",
        "        if self.isempty():\n",
        "            self.value = v\n",
        "        # If current node is last node of the list\n",
        "        elif self.next == None:\n",
        "            self.next = Node(v)\n",
        "        # Else raverse to next node\n",
        "        else:\n",
        "            self.next.append(v)\n",
        "        return\n",
        "    # append, iterative\n",
        "    def appendi(self,v):\n",
        "        # if current node is empty\n",
        "        if self.isempty():\n",
        "            self.value = v\n",
        "            return\n",
        "        temp = self\n",
        "        # Traverse the list to find the last node\n",
        "        while temp.next != None:\n",
        "            temp = temp.next\n",
        "        temp.next = Node(v)\n",
        "        return\n",
        "    def insert(self,v):\n",
        "        if self.isempty():\n",
        "            self.value = v\n",
        "            return\n",
        "        newnode = Node(v)\n",
        "        # Exchange values in self and newnode\n",
        "        (self.value, newnode.value) = (newnode.value, self.value)\n",
        "        # Switch links\n",
        "        (self.next, newnode.next) =(newnode, self.next)\n",
        "        return\n",
        "    # delete, recursive\n",
        "    def delete(self,v):\n",
        "        # If list is empty\n",
        "        if self.isempty():\n",
        "            return\n",
        "        # If v is the current node of the list\n",
        "        if self.value == v:\n",
        "            self.value = None\n",
        "            if self.next != None:\n",
        "                self.value = self.next.value\n",
        "                self.next = self.next.next\n",
        "            return\n",
        "        else:\n",
        "            if self.next != None:\n",
        "                self.next.delete(v)\n",
        "                if self.next.value == None:\n",
        "                    self.next = None\n",
        "        return\n",
        "    def display(self):\n",
        "        if self.isempty()==True:\n",
        "            print('None')\n",
        "        else:\n",
        "            temp = self\n",
        "            while temp!=None:\n",
        "                print(temp.value,end=\"  \")\n",
        "                temp = temp.next\n",
        "head = Node(10)\n",
        "head.append(20)\n",
        "head.append(30)\n",
        "head.appendi(40)\n",
        "head.appendi(50)\n",
        "head.delete(30)\n",
        "head.display()\n"
      ],
      "metadata": {
        "id": "2oY4TJY6maIf"
      },
      "execution_count": null,
      "outputs": []
    },
    {
      "cell_type": "code",
      "source": [
        "class node:\n",
        "  def __init__(self,data):\n",
        "    self.data=data\n",
        "    self.next=None\n",
        "class linkedlist:\n",
        "  def __init__(self):\n",
        "    self.head=None\n",
        "  def insertatbegin(self,value):\n",
        "    newnode=node(value)\n",
        "    newnode.next=self.head\n",
        "    self.head=newnode\n",
        "  def insertatend(self,value):\n",
        "    newnode=node(value)\n",
        "    if self.head is None:\n",
        "      self.head=newnode\n",
        "      return\n",
        "    last=self.head\n",
        "    while last.next:\n",
        "      last=last.next\n",
        "    last.next=newnode\n",
        "h=linkedlist()\n",
        "h.insertatbegin(10)\n",
        "h.insertatend(23)\n",
        "print(h.head.data)\n",
        "print(h.head.next.data)"
      ],
      "metadata": {
        "id": "XvkXxcEgwvvK",
        "colab": {
          "base_uri": "https://localhost:8080/"
        },
        "outputId": "02b63c24-15dc-4fad-c553-4a98f90130e7"
      },
      "execution_count": 4,
      "outputs": [
        {
          "output_type": "stream",
          "name": "stdout",
          "text": [
            "10\n",
            "23\n"
          ]
        }
      ]
    },
    {
      "cell_type": "code",
      "source": [],
      "metadata": {
        "id": "wL_MYqUiwv0i"
      },
      "execution_count": null,
      "outputs": []
    }
  ]
}